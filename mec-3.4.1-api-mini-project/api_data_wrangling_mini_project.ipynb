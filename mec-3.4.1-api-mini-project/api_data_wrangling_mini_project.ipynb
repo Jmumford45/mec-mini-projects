{
 "cells": [
  {
   "cell_type": "markdown",
   "metadata": {},
   "source": [
    "This exercise will require you to pull some data from https://data.nasdaq.com/ (formerly Quandl API)."
   ]
  },
  {
   "cell_type": "markdown",
   "metadata": {},
   "source": [
    "As a first step, you will need to register a free account on the https://data.nasdaq.com/ website."
   ]
  },
  {
   "cell_type": "markdown",
   "metadata": {},
   "source": [
    "After you register, you will be provided with a unique API key, that you should store:\n",
    "\n",
    "*Note*: Use a `.env` file and put your key in there and `python-dotenv` to access it in this notebook. \n",
    "\n",
    "The code below uses a key that was used when generating this project but has since been deleted. Never submit your keys to source control. There is a `.env-example` file in this repository to illusrtate what you need. Copy that to a file called `.env` and use your own api key in that `.env` file. Make sure you also have a `.gitignore` file with a line for `.env` added to it. \n",
    "\n",
    "The standard Python gitignore is [here](https://github.com/github/gitignore/blob/master/Python.gitignore) you can just copy that. "
   ]
  },
  {
   "cell_type": "code",
   "execution_count": 3,
   "metadata": {},
   "outputs": [
    {
     "name": "stdout",
     "output_type": "stream",
     "text": [
      "Collecting python-dotenv\n",
      "  Downloading python_dotenv-0.19.1-py2.py3-none-any.whl (17 kB)\n",
      "Installing collected packages: python-dotenv\n",
      "Successfully installed python-dotenv-0.19.1\n",
      "Note: you may need to restart the kernel to use updated packages.\n"
     ]
    }
   ],
   "source": [
    "pip install python-dotenv"
   ]
  },
  {
   "cell_type": "code",
   "execution_count": 14,
   "metadata": {},
   "outputs": [
    {
     "name": "stdout",
     "output_type": "stream",
     "text": [
      "Lib-7mP6adycKxzyyCBz\n"
     ]
    }
   ],
   "source": [
    "# get api key from your .env file\n",
    "import os\n",
    "from dotenv import load_dotenv  # if missing this module, simply run `pip install python-dotenv`\n",
    "\n",
    "load_dotenv()\n",
    "key = os.getenv('NASDAQ_API_KEY')\n",
    "\n",
    "print(key)"
   ]
  },
  {
   "cell_type": "markdown",
   "metadata": {},
   "source": [
    "Nasdaq Data has a large number of data sources, but, unfortunately, most of them require a Premium subscription. Still, there are also a good number of free datasets."
   ]
  },
  {
   "cell_type": "markdown",
   "metadata": {},
   "source": [
    "For this mini project, we will focus on equities data from the Frankfurt Stock Exhange (FSE), which is available for free. We'll try and analyze the stock prices of a company called Carl Zeiss Meditec, which manufactures tools for eye examinations, as well as medical lasers for laser eye surgery: https://www.zeiss.com/meditec/int/home.html. The company is listed under the stock ticker AFX_X."
   ]
  },
  {
   "cell_type": "markdown",
   "metadata": {},
   "source": [
    "You can find the detailed Nasdaq Data API instructions here: https://docs.data.nasdaq.com/docs/in-depth-usage"
   ]
  },
  {
   "cell_type": "markdown",
   "metadata": {},
   "source": [
    "While there is a dedicated Python package for connecting to the Nasdaq API, we would prefer that you use the *requests* package, which can be easily downloaded using *pip* or *conda*. You can find the documentation for the package here: http://docs.python-requests.org/en/master/ "
   ]
  },
  {
   "cell_type": "markdown",
   "metadata": {},
   "source": [
    "Finally, apart from the *requests* package, you are encouraged to not use any third party Python packages, such as *pandas*, and instead focus on what's available in the Python Standard Library (the *collections* module might come in handy: https://pymotw.com/3/collections/).\n",
    "Also, since you won't have access to DataFrames, you are encouraged to us Python's native data structures - preferably dictionaries, though some questions can also be answered using lists.\n",
    "You can read more on these data structures here: https://docs.python.org/3/tutorial/datastructures.html"
   ]
  },
  {
   "cell_type": "markdown",
   "metadata": {},
   "source": [
    "Keep in mind that the JSON responses you will be getting from the API map almost one-to-one to Python's dictionaries. Unfortunately, they can be very nested, so make sure you read up on indexing dictionaries in the documentation provided above."
   ]
  },
  {
   "cell_type": "code",
   "execution_count": 2,
   "metadata": {},
   "outputs": [],
   "source": [
    "# First, import the relevant modules\n",
    "import requests as rqt\n",
    "import collections as col"
   ]
  },
  {
   "cell_type": "markdown",
   "metadata": {},
   "source": [
    "Note: API's can change a bit with each version, for this exercise it is reccomended to use the nasdaq api at `https://data.nasdaq.com/api/v3/`. This is the same api as what used to be quandl so `https://www.quandl.com/api/v3/` should work too.\n",
    "\n",
    "Hint: We are looking for the `AFX_X` data on the `datasets/FSE/` dataset."
   ]
  },
  {
   "cell_type": "code",
   "execution_count": 104,
   "metadata": {},
   "outputs": [],
   "source": [
    "# Now, call the Nasdaq API and pull out a small sample of the data (only one day) to get a glimpse\n",
    "# into the JSON structure that will be returned\n",
    "\n",
    "#test url from api docs of usage and query curls\n",
    "#url = \"https://data.nasdaq.com/api/v3/datasets/FINRA/FORF_THNCF?start_date=2021-10-07&end_date=2021-10-07&api_key=Lib-7mP6adycKxzyyCBz\"\n",
    "\n",
    "#url to work with & query params to search for in the table\n",
    "url = \"https://data.nasdaq.com/api/v3/datasets/FINRA/FNYX_RKLB-finranyse-trf-short-interest-rklb\"\n",
    "params = {\"start_date\" : \"2021-10-11\", \"end_date\" : \"2021-10-11\"}"
   ]
  },
  {
   "cell_type": "code",
   "execution_count": 105,
   "metadata": {},
   "outputs": [
    {
     "data": {
      "text/plain": [
       "'https://data.nasdaq.com/api/v3/datasets/FINRA/FNYX_RKLB-finranyse-trf-short-interest-rklb?start_date=2021-10-11&end_date=2021-10-11'"
      ]
     },
     "execution_count": 105,
     "metadata": {},
     "output_type": "execute_result"
    }
   ],
   "source": [
    "# Inspect the JSON structure of the object you created, and take note of how nested it is,\n",
    "# as well as the overall structure\n",
    "\n",
    "#test url for query format\n",
    "#r = rqt.get(url)\n",
    "r = rqt.get(url, params)\n",
    "r.url"
   ]
  },
  {
   "cell_type": "code",
   "execution_count": 188,
   "metadata": {
    "scrolled": true
   },
   "outputs": [
    {
     "name": "stdout",
     "output_type": "stream",
     "text": [
      "{'dataset': {'id': 50825892, 'dataset_code': 'FNYX_RKLB', 'database_code': 'FINRA', 'name': 'FINRA/NYSE TRF Short Interest: RKLB', 'description': 'FINRA/NYSE TRF Short Interest: RKLB', 'refreshed_at': '2021-10-13T00:04:11.713Z', 'newest_available_date': '2021-10-12', 'oldest_available_date': '2021-08-25', 'column_names': ['Date', 'ShortVolume', 'ShortExemptVolume', 'TotalVolume'], 'frequency': 'daily', 'type': 'Time Series', 'premium': False, 'limit': None, 'transform': None, 'column_index': None, 'start_date': '2021-08-25', 'end_date': '2021-10-11', 'data': [['2021-10-11', 171561.0, 12388.0, 335332.0], ['2021-10-08', 330775.0, 3416.0, 898354.0], ['2021-10-07', 501704.0, 701.0, 1115903.0], ['2021-10-06', 211936.0, 291.0, 384479.0], ['2021-10-05', 225505.0, 1604.0, 357425.0], ['2021-10-04', 334055.0, 2775.0, 541143.0], ['2021-10-01', 249387.0, 2000.0, 660883.0], ['2021-09-30', 124149.0, 300.0, 367313.0], ['2021-09-29', 93550.0, 0.0, 358798.0], ['2021-09-28', 136854.0, 300.0, 511315.0], ['2021-09-27', 166225.0, 0.0, 467564.0], ['2021-09-24', 55596.0, 0.0, 193071.0], ['2021-09-23', 69449.0, 0.0, 220750.0], ['2021-09-22', 103325.0, 0.0, 261933.0], ['2021-09-21', 84127.0, 0.0, 232722.0], ['2021-09-20', 94117.0, 0.0, 308448.0], ['2021-09-17', 139556.0, 0.0, 378530.0], ['2021-09-16', 141950.0, 0.0, 427799.0], ['2021-09-15', 198560.0, 0.0, 607188.0], ['2021-09-14', 279412.0, 4666.0, 793649.0], ['2021-09-13', 371020.0, 8659.0, 1003908.0], ['2021-09-10', 628301.0, 11891.0, 1628336.0], ['2021-09-09', 2307883.0, 0.0, 6615146.0], ['2021-09-08', 326763.0, 0.0, 799071.0], ['2021-09-07', 1217900.0, 0.0, 2731596.0], ['2021-09-03', 822249.0, 0.0, 1657628.0], ['2021-09-02', 204731.0, 0.0, 512900.0], ['2021-09-01', 76868.0, 0.0, 187863.0], ['2021-08-31', 118409.0, 220.0, 207648.0], ['2021-08-30', 177926.0, 0.0, 307355.0], ['2021-08-27', 149121.0, 0.0, 340047.0], ['2021-08-26', 181408.0, 25210.0, 351591.0], ['2021-08-25', 371978.0, 41203.0, 597283.0]], 'collapse': None, 'order': None, 'database_id': 7370}}\n"
     ]
    },
    {
     "data": {
      "text/plain": [
       "{'id': 50825892,\n",
       " 'dataset_code': 'FNYX_RKLB',\n",
       " 'database_code': 'FINRA',\n",
       " 'name': 'FINRA/NYSE TRF Short Interest: RKLB',\n",
       " 'description': 'FINRA/NYSE TRF Short Interest: RKLB',\n",
       " 'refreshed_at': '2021-10-13T00:04:11.713Z',\n",
       " 'newest_available_date': '2021-10-12',\n",
       " 'oldest_available_date': '2021-08-25',\n",
       " 'column_names': ['Date', 'ShortVolume', 'ShortExemptVolume', 'TotalVolume'],\n",
       " 'frequency': 'daily',\n",
       " 'type': 'Time Series',\n",
       " 'premium': False,\n",
       " 'limit': None,\n",
       " 'transform': None,\n",
       " 'column_index': None,\n",
       " 'start_date': '2021-08-25',\n",
       " 'end_date': '2021-10-11',\n",
       " 'data': [['2021-10-11', 171561.0, 12388.0, 335332.0],\n",
       "  ['2021-10-08', 330775.0, 3416.0, 898354.0],\n",
       "  ['2021-10-07', 501704.0, 701.0, 1115903.0],\n",
       "  ['2021-10-06', 211936.0, 291.0, 384479.0],\n",
       "  ['2021-10-05', 225505.0, 1604.0, 357425.0],\n",
       "  ['2021-10-04', 334055.0, 2775.0, 541143.0],\n",
       "  ['2021-10-01', 249387.0, 2000.0, 660883.0],\n",
       "  ['2021-09-30', 124149.0, 300.0, 367313.0],\n",
       "  ['2021-09-29', 93550.0, 0.0, 358798.0],\n",
       "  ['2021-09-28', 136854.0, 300.0, 511315.0],\n",
       "  ['2021-09-27', 166225.0, 0.0, 467564.0],\n",
       "  ['2021-09-24', 55596.0, 0.0, 193071.0],\n",
       "  ['2021-09-23', 69449.0, 0.0, 220750.0],\n",
       "  ['2021-09-22', 103325.0, 0.0, 261933.0],\n",
       "  ['2021-09-21', 84127.0, 0.0, 232722.0],\n",
       "  ['2021-09-20', 94117.0, 0.0, 308448.0],\n",
       "  ['2021-09-17', 139556.0, 0.0, 378530.0],\n",
       "  ['2021-09-16', 141950.0, 0.0, 427799.0],\n",
       "  ['2021-09-15', 198560.0, 0.0, 607188.0],\n",
       "  ['2021-09-14', 279412.0, 4666.0, 793649.0],\n",
       "  ['2021-09-13', 371020.0, 8659.0, 1003908.0],\n",
       "  ['2021-09-10', 628301.0, 11891.0, 1628336.0],\n",
       "  ['2021-09-09', 2307883.0, 0.0, 6615146.0],\n",
       "  ['2021-09-08', 326763.0, 0.0, 799071.0],\n",
       "  ['2021-09-07', 1217900.0, 0.0, 2731596.0],\n",
       "  ['2021-09-03', 822249.0, 0.0, 1657628.0],\n",
       "  ['2021-09-02', 204731.0, 0.0, 512900.0],\n",
       "  ['2021-09-01', 76868.0, 0.0, 187863.0],\n",
       "  ['2021-08-31', 118409.0, 220.0, 207648.0],\n",
       "  ['2021-08-30', 177926.0, 0.0, 307355.0],\n",
       "  ['2021-08-27', 149121.0, 0.0, 340047.0],\n",
       "  ['2021-08-26', 181408.0, 25210.0, 351591.0],\n",
       "  ['2021-08-25', 371978.0, 41203.0, 597283.0]],\n",
       " 'collapse': None,\n",
       " 'order': None,\n",
       " 'database_id': 7370}"
      ]
     },
     "execution_count": 188,
     "metadata": {},
     "output_type": "execute_result"
    }
   ],
   "source": [
    "#convert the response to json and store the data\n",
    "#convert the json object into a list\n",
    "#check if object return is truly a dict\n",
    "#print the data in the dict\n",
    "data = r.json()\n",
    "data = dict(data)\n",
    "print(data)\n",
    "type(data)\n",
    "\n",
    "#remove the outside dict key : value -> value is nested dictionary\n",
    "#store the returned dictionary into a new obj and del the previous dict\n",
    "single_dict = dict(data['dataset'])\n",
    "del data\n",
    "single_dict"
   ]
  },
  {
   "cell_type": "markdown",
   "metadata": {},
   "source": [
    "These are your tasks for this mini project:\n",
    "\n",
    "1. Collect data from the Franfurt Stock Exchange, for the ticker AFX_X, for the whole year 2017 (keep in mind that the date format is YYYY-MM-DD).\n",
    "2. Convert the returned JSON object into a Python dictionary.\n",
    "3. Calculate what the highest and lowest opening prices were for the stock in this period.\n",
    "4. What was the largest change in any one day (based on High and Low price)?\n",
    "5. What was the largest change between any two days (based on Closing Price)?\n",
    "6. What was the average daily trading volume during this year?\n",
    "7. (Optional) What was the median trading volume during this year. (Note: you may need to implement your own function for calculating the median.)"
   ]
  },
  {
   "cell_type": "code",
   "execution_count": 189,
   "metadata": {},
   "outputs": [],
   "source": [
    "#url to work with & query params to search for in the table\n",
    "url = \"https://data.nasdaq.com/api/v3/datasets/FINRA/FNYX_RKLB-finranyse-trf-short-interest-rklb\"\n",
    "params = {\"start_date\" : \"2021-01-01\", \"end_date\" : \"2021-10-11\"}"
   ]
  },
  {
   "cell_type": "code",
   "execution_count": 190,
   "metadata": {
    "scrolled": true
   },
   "outputs": [
    {
     "data": {
      "text/plain": [
       "'https://data.nasdaq.com/api/v3/datasets/FINRA/FNYX_RKLB-finranyse-trf-short-interest-rklb?start_date=2021-01-01&end_date=2021-10-11'"
      ]
     },
     "execution_count": 190,
     "metadata": {},
     "output_type": "execute_result"
    }
   ],
   "source": [
    "#test url for query format\n",
    "#r = rqt.get(url)\n",
    "r = rqt.get(url, params)\n",
    "r.url"
   ]
  },
  {
   "cell_type": "code",
   "execution_count": 192,
   "metadata": {
    "scrolled": true
   },
   "outputs": [
    {
     "data": {
      "text/plain": [
       "{'dataset': {'id': 50825892,\n",
       "  'dataset_code': 'FNYX_RKLB',\n",
       "  'database_code': 'FINRA',\n",
       "  'name': 'FINRA/NYSE TRF Short Interest: RKLB',\n",
       "  'description': 'FINRA/NYSE TRF Short Interest: RKLB',\n",
       "  'refreshed_at': '2021-10-13T00:04:11.713Z',\n",
       "  'newest_available_date': '2021-10-12',\n",
       "  'oldest_available_date': '2021-08-25',\n",
       "  'column_names': ['Date', 'ShortVolume', 'ShortExemptVolume', 'TotalVolume'],\n",
       "  'frequency': 'daily',\n",
       "  'type': 'Time Series',\n",
       "  'premium': False,\n",
       "  'limit': None,\n",
       "  'transform': None,\n",
       "  'column_index': None,\n",
       "  'start_date': '2021-08-25',\n",
       "  'end_date': '2021-10-11',\n",
       "  'data': [['2021-10-11', 171561.0, 12388.0, 335332.0],\n",
       "   ['2021-10-08', 330775.0, 3416.0, 898354.0],\n",
       "   ['2021-10-07', 501704.0, 701.0, 1115903.0],\n",
       "   ['2021-10-06', 211936.0, 291.0, 384479.0],\n",
       "   ['2021-10-05', 225505.0, 1604.0, 357425.0],\n",
       "   ['2021-10-04', 334055.0, 2775.0, 541143.0],\n",
       "   ['2021-10-01', 249387.0, 2000.0, 660883.0],\n",
       "   ['2021-09-30', 124149.0, 300.0, 367313.0],\n",
       "   ['2021-09-29', 93550.0, 0.0, 358798.0],\n",
       "   ['2021-09-28', 136854.0, 300.0, 511315.0],\n",
       "   ['2021-09-27', 166225.0, 0.0, 467564.0],\n",
       "   ['2021-09-24', 55596.0, 0.0, 193071.0],\n",
       "   ['2021-09-23', 69449.0, 0.0, 220750.0],\n",
       "   ['2021-09-22', 103325.0, 0.0, 261933.0],\n",
       "   ['2021-09-21', 84127.0, 0.0, 232722.0],\n",
       "   ['2021-09-20', 94117.0, 0.0, 308448.0],\n",
       "   ['2021-09-17', 139556.0, 0.0, 378530.0],\n",
       "   ['2021-09-16', 141950.0, 0.0, 427799.0],\n",
       "   ['2021-09-15', 198560.0, 0.0, 607188.0],\n",
       "   ['2021-09-14', 279412.0, 4666.0, 793649.0],\n",
       "   ['2021-09-13', 371020.0, 8659.0, 1003908.0],\n",
       "   ['2021-09-10', 628301.0, 11891.0, 1628336.0],\n",
       "   ['2021-09-09', 2307883.0, 0.0, 6615146.0],\n",
       "   ['2021-09-08', 326763.0, 0.0, 799071.0],\n",
       "   ['2021-09-07', 1217900.0, 0.0, 2731596.0],\n",
       "   ['2021-09-03', 822249.0, 0.0, 1657628.0],\n",
       "   ['2021-09-02', 204731.0, 0.0, 512900.0],\n",
       "   ['2021-09-01', 76868.0, 0.0, 187863.0],\n",
       "   ['2021-08-31', 118409.0, 220.0, 207648.0],\n",
       "   ['2021-08-30', 177926.0, 0.0, 307355.0],\n",
       "   ['2021-08-27', 149121.0, 0.0, 340047.0],\n",
       "   ['2021-08-26', 181408.0, 25210.0, 351591.0],\n",
       "   ['2021-08-25', 371978.0, 41203.0, 597283.0]],\n",
       "  'collapse': None,\n",
       "  'order': None,\n",
       "  'database_id': 7370}}"
      ]
     },
     "execution_count": 192,
     "metadata": {},
     "output_type": "execute_result"
    }
   ],
   "source": [
    "#convert the response to json and store the data\n",
    "#convert the json object into a list\n",
    "#check if object return is truly a dict\n",
    "#print the data in the dict\n",
    "data = r.json()\n",
    "data"
   ]
  },
  {
   "cell_type": "code",
   "execution_count": 193,
   "metadata": {
    "scrolled": false
   },
   "outputs": [
    {
     "name": "stdout",
     "output_type": "stream",
     "text": [
      "{'dataset': {'id': 50825892, 'dataset_code': 'FNYX_RKLB', 'database_code': 'FINRA', 'name': 'FINRA/NYSE TRF Short Interest: RKLB', 'description': 'FINRA/NYSE TRF Short Interest: RKLB', 'refreshed_at': '2021-10-13T00:04:11.713Z', 'newest_available_date': '2021-10-12', 'oldest_available_date': '2021-08-25', 'column_names': ['Date', 'ShortVolume', 'ShortExemptVolume', 'TotalVolume'], 'frequency': 'daily', 'type': 'Time Series', 'premium': False, 'limit': None, 'transform': None, 'column_index': None, 'start_date': '2021-08-25', 'end_date': '2021-10-11', 'data': [['2021-10-11', 171561.0, 12388.0, 335332.0], ['2021-10-08', 330775.0, 3416.0, 898354.0], ['2021-10-07', 501704.0, 701.0, 1115903.0], ['2021-10-06', 211936.0, 291.0, 384479.0], ['2021-10-05', 225505.0, 1604.0, 357425.0], ['2021-10-04', 334055.0, 2775.0, 541143.0], ['2021-10-01', 249387.0, 2000.0, 660883.0], ['2021-09-30', 124149.0, 300.0, 367313.0], ['2021-09-29', 93550.0, 0.0, 358798.0], ['2021-09-28', 136854.0, 300.0, 511315.0], ['2021-09-27', 166225.0, 0.0, 467564.0], ['2021-09-24', 55596.0, 0.0, 193071.0], ['2021-09-23', 69449.0, 0.0, 220750.0], ['2021-09-22', 103325.0, 0.0, 261933.0], ['2021-09-21', 84127.0, 0.0, 232722.0], ['2021-09-20', 94117.0, 0.0, 308448.0], ['2021-09-17', 139556.0, 0.0, 378530.0], ['2021-09-16', 141950.0, 0.0, 427799.0], ['2021-09-15', 198560.0, 0.0, 607188.0], ['2021-09-14', 279412.0, 4666.0, 793649.0], ['2021-09-13', 371020.0, 8659.0, 1003908.0], ['2021-09-10', 628301.0, 11891.0, 1628336.0], ['2021-09-09', 2307883.0, 0.0, 6615146.0], ['2021-09-08', 326763.0, 0.0, 799071.0], ['2021-09-07', 1217900.0, 0.0, 2731596.0], ['2021-09-03', 822249.0, 0.0, 1657628.0], ['2021-09-02', 204731.0, 0.0, 512900.0], ['2021-09-01', 76868.0, 0.0, 187863.0], ['2021-08-31', 118409.0, 220.0, 207648.0], ['2021-08-30', 177926.0, 0.0, 307355.0], ['2021-08-27', 149121.0, 0.0, 340047.0], ['2021-08-26', 181408.0, 25210.0, 351591.0], ['2021-08-25', 371978.0, 41203.0, 597283.0]], 'collapse': None, 'order': None, 'database_id': 7370}}\n"
     ]
    },
    {
     "data": {
      "text/plain": [
       "dict"
      ]
     },
     "execution_count": 193,
     "metadata": {},
     "output_type": "execute_result"
    }
   ],
   "source": [
    "data = dict(data)\n",
    "print(data)\n",
    "type(data)"
   ]
  },
  {
   "cell_type": "code",
   "execution_count": 194,
   "metadata": {
    "scrolled": true
   },
   "outputs": [
    {
     "data": {
      "text/plain": [
       "{'id': 50825892,\n",
       " 'dataset_code': 'FNYX_RKLB',\n",
       " 'database_code': 'FINRA',\n",
       " 'name': 'FINRA/NYSE TRF Short Interest: RKLB',\n",
       " 'description': 'FINRA/NYSE TRF Short Interest: RKLB',\n",
       " 'refreshed_at': '2021-10-13T00:04:11.713Z',\n",
       " 'newest_available_date': '2021-10-12',\n",
       " 'oldest_available_date': '2021-08-25',\n",
       " 'column_names': ['Date', 'ShortVolume', 'ShortExemptVolume', 'TotalVolume'],\n",
       " 'frequency': 'daily',\n",
       " 'type': 'Time Series',\n",
       " 'premium': False,\n",
       " 'limit': None,\n",
       " 'transform': None,\n",
       " 'column_index': None,\n",
       " 'start_date': '2021-08-25',\n",
       " 'end_date': '2021-10-11',\n",
       " 'data': [['2021-10-11', 171561.0, 12388.0, 335332.0],\n",
       "  ['2021-10-08', 330775.0, 3416.0, 898354.0],\n",
       "  ['2021-10-07', 501704.0, 701.0, 1115903.0],\n",
       "  ['2021-10-06', 211936.0, 291.0, 384479.0],\n",
       "  ['2021-10-05', 225505.0, 1604.0, 357425.0],\n",
       "  ['2021-10-04', 334055.0, 2775.0, 541143.0],\n",
       "  ['2021-10-01', 249387.0, 2000.0, 660883.0],\n",
       "  ['2021-09-30', 124149.0, 300.0, 367313.0],\n",
       "  ['2021-09-29', 93550.0, 0.0, 358798.0],\n",
       "  ['2021-09-28', 136854.0, 300.0, 511315.0],\n",
       "  ['2021-09-27', 166225.0, 0.0, 467564.0],\n",
       "  ['2021-09-24', 55596.0, 0.0, 193071.0],\n",
       "  ['2021-09-23', 69449.0, 0.0, 220750.0],\n",
       "  ['2021-09-22', 103325.0, 0.0, 261933.0],\n",
       "  ['2021-09-21', 84127.0, 0.0, 232722.0],\n",
       "  ['2021-09-20', 94117.0, 0.0, 308448.0],\n",
       "  ['2021-09-17', 139556.0, 0.0, 378530.0],\n",
       "  ['2021-09-16', 141950.0, 0.0, 427799.0],\n",
       "  ['2021-09-15', 198560.0, 0.0, 607188.0],\n",
       "  ['2021-09-14', 279412.0, 4666.0, 793649.0],\n",
       "  ['2021-09-13', 371020.0, 8659.0, 1003908.0],\n",
       "  ['2021-09-10', 628301.0, 11891.0, 1628336.0],\n",
       "  ['2021-09-09', 2307883.0, 0.0, 6615146.0],\n",
       "  ['2021-09-08', 326763.0, 0.0, 799071.0],\n",
       "  ['2021-09-07', 1217900.0, 0.0, 2731596.0],\n",
       "  ['2021-09-03', 822249.0, 0.0, 1657628.0],\n",
       "  ['2021-09-02', 204731.0, 0.0, 512900.0],\n",
       "  ['2021-09-01', 76868.0, 0.0, 187863.0],\n",
       "  ['2021-08-31', 118409.0, 220.0, 207648.0],\n",
       "  ['2021-08-30', 177926.0, 0.0, 307355.0],\n",
       "  ['2021-08-27', 149121.0, 0.0, 340047.0],\n",
       "  ['2021-08-26', 181408.0, 25210.0, 351591.0],\n",
       "  ['2021-08-25', 371978.0, 41203.0, 597283.0]],\n",
       " 'collapse': None,\n",
       " 'order': None,\n",
       " 'database_id': 7370}"
      ]
     },
     "execution_count": 194,
     "metadata": {},
     "output_type": "execute_result"
    }
   ],
   "source": [
    "#remove the outside dict key : value -> value is nested dictionary\n",
    "#store the returned dictionary into a new obj and del the previous dict\n",
    "single_dict = dict(data['dataset'])\n",
    "del data\n",
    "single_dict"
   ]
  },
  {
   "cell_type": "code",
   "execution_count": 195,
   "metadata": {},
   "outputs": [
    {
     "data": {
      "text/plain": [
       "[['2021-10-11', 171561.0, 12388.0, 335332.0],\n",
       " ['2021-10-08', 330775.0, 3416.0, 898354.0],\n",
       " ['2021-10-07', 501704.0, 701.0, 1115903.0],\n",
       " ['2021-10-06', 211936.0, 291.0, 384479.0],\n",
       " ['2021-10-05', 225505.0, 1604.0, 357425.0],\n",
       " ['2021-10-04', 334055.0, 2775.0, 541143.0],\n",
       " ['2021-10-01', 249387.0, 2000.0, 660883.0],\n",
       " ['2021-09-30', 124149.0, 300.0, 367313.0],\n",
       " ['2021-09-29', 93550.0, 0.0, 358798.0],\n",
       " ['2021-09-28', 136854.0, 300.0, 511315.0],\n",
       " ['2021-09-27', 166225.0, 0.0, 467564.0],\n",
       " ['2021-09-24', 55596.0, 0.0, 193071.0],\n",
       " ['2021-09-23', 69449.0, 0.0, 220750.0],\n",
       " ['2021-09-22', 103325.0, 0.0, 261933.0],\n",
       " ['2021-09-21', 84127.0, 0.0, 232722.0],\n",
       " ['2021-09-20', 94117.0, 0.0, 308448.0],\n",
       " ['2021-09-17', 139556.0, 0.0, 378530.0],\n",
       " ['2021-09-16', 141950.0, 0.0, 427799.0],\n",
       " ['2021-09-15', 198560.0, 0.0, 607188.0],\n",
       " ['2021-09-14', 279412.0, 4666.0, 793649.0],\n",
       " ['2021-09-13', 371020.0, 8659.0, 1003908.0],\n",
       " ['2021-09-10', 628301.0, 11891.0, 1628336.0],\n",
       " ['2021-09-09', 2307883.0, 0.0, 6615146.0],\n",
       " ['2021-09-08', 326763.0, 0.0, 799071.0],\n",
       " ['2021-09-07', 1217900.0, 0.0, 2731596.0],\n",
       " ['2021-09-03', 822249.0, 0.0, 1657628.0],\n",
       " ['2021-09-02', 204731.0, 0.0, 512900.0],\n",
       " ['2021-09-01', 76868.0, 0.0, 187863.0],\n",
       " ['2021-08-31', 118409.0, 220.0, 207648.0],\n",
       " ['2021-08-30', 177926.0, 0.0, 307355.0],\n",
       " ['2021-08-27', 149121.0, 0.0, 340047.0],\n",
       " ['2021-08-26', 181408.0, 25210.0, 351591.0],\n",
       " ['2021-08-25', 371978.0, 41203.0, 597283.0]]"
      ]
     },
     "execution_count": 195,
     "metadata": {},
     "output_type": "execute_result"
    }
   ],
   "source": [
    "#Calculate what the highest and lowest opening prices were for the stock in this period.\n",
    "#pull the data with nested list out of the dict for our data\n",
    "list_data = single_dict['data']\n",
    "list_data"
   ]
  },
  {
   "cell_type": "code",
   "execution_count": 196,
   "metadata": {},
   "outputs": [
    {
     "data": {
      "text/plain": [
       "list"
      ]
     },
     "execution_count": 196,
     "metadata": {},
     "output_type": "execute_result"
    }
   ],
   "source": [
    "type(list_data)"
   ]
  },
  {
   "cell_type": "code",
   "execution_count": 200,
   "metadata": {
    "scrolled": true
   },
   "outputs": [
    {
     "data": {
      "text/plain": [
       "[['2021-09-24', 55596.0, 0.0, 193071.0, 137475.0],\n",
       " ['2021-09-23', 69449.0, 0.0, 220750.0, 151301.0],\n",
       " ['2021-09-01', 76868.0, 0.0, 187863.0, 110995.0],\n",
       " ['2021-09-21', 84127.0, 0.0, 232722.0, 148595.0],\n",
       " ['2021-09-29', 93550.0, 0.0, 358798.0, 265248.0],\n",
       " ['2021-09-20', 94117.0, 0.0, 308448.0, 214331.0],\n",
       " ['2021-09-22', 103325.0, 0.0, 261933.0, 158608.0],\n",
       " ['2021-08-31', 118409.0, 220.0, 207648.0, 89239.0],\n",
       " ['2021-09-30', 124149.0, 300.0, 367313.0, 243164.0],\n",
       " ['2021-09-28', 136854.0, 300.0, 511315.0, 374461.0],\n",
       " ['2021-09-17', 139556.0, 0.0, 378530.0, 238974.0],\n",
       " ['2021-09-16', 141950.0, 0.0, 427799.0, 285849.0],\n",
       " ['2021-08-27', 149121.0, 0.0, 340047.0, 190926.0],\n",
       " ['2021-09-27', 166225.0, 0.0, 467564.0, 301339.0],\n",
       " ['2021-10-11', 171561.0, 12388.0, 335332.0, 163771.0],\n",
       " ['2021-08-30', 177926.0, 0.0, 307355.0, 129429.0],\n",
       " ['2021-08-26', 181408.0, 25210.0, 351591.0, 170183.0],\n",
       " ['2021-09-15', 198560.0, 0.0, 607188.0, 408628.0],\n",
       " ['2021-09-02', 204731.0, 0.0, 512900.0, 308169.0],\n",
       " ['2021-10-06', 211936.0, 291.0, 384479.0, 172543.0],\n",
       " ['2021-10-05', 225505.0, 1604.0, 357425.0, 131920.0],\n",
       " ['2021-10-01', 249387.0, 2000.0, 660883.0, 411496.0],\n",
       " ['2021-09-14', 279412.0, 4666.0, 793649.0, 514237.0],\n",
       " ['2021-09-08', 326763.0, 0.0, 799071.0, 472308.0],\n",
       " ['2021-10-08', 330775.0, 3416.0, 898354.0, 567579.0],\n",
       " ['2021-10-04', 334055.0, 2775.0, 541143.0, 207088.0],\n",
       " ['2021-09-13', 371020.0, 8659.0, 1003908.0, 632888.0],\n",
       " ['2021-08-25', 371978.0, 41203.0, 597283.0, 225305.0],\n",
       " ['2021-10-07', 501704.0, 701.0, 1115903.0, 614199.0],\n",
       " ['2021-09-10', 628301.0, 11891.0, 1628336.0, 1000035.0],\n",
       " ['2021-09-03', 822249.0, 0.0, 1657628.0, 835379.0],\n",
       " ['2021-09-07', 1217900.0, 0.0, 2731596.0, 1513696.0],\n",
       " ['2021-09-09', 2307883.0, 0.0, 6615146.0, 4307263.0]]"
      ]
     },
     "execution_count": 200,
     "metadata": {},
     "output_type": "execute_result"
    }
   ],
   "source": [
    "##att1 - pull second col from matrix, [1][i]\n",
    "#sort the list of opening values from lowest to highest using merge sort\n",
    "#pull list[0] and list[len(list)] then perform a sort on list\n",
    "#use timesort on col1 in matrix\n",
    "from operator import itemgetter, attrgetter\n",
    "sorted_list = sorted(list_data, key=itemgetter(1))\n",
    "sorted_list"
   ]
  },
  {
   "cell_type": "code",
   "execution_count": 198,
   "metadata": {},
   "outputs": [
    {
     "name": "stdout",
     "output_type": "stream",
     "text": [
      "FNYX_RKLB: lowest volume: 55596.0, highest volume: 2307883.0\n"
     ]
    }
   ],
   "source": [
    "lowest_vol = sorted_list[0][1]\n",
    "highest_vol = sorted_list[len(sorted_list) - 1][1]\n",
    "\n",
    "print(single_dict['dataset_code'] + f': lowest volume: {lowest_vol}, highest volume: {highest_vol}')"
   ]
  },
  {
   "cell_type": "code",
   "execution_count": 199,
   "metadata": {
    "scrolled": true
   },
   "outputs": [],
   "source": [
    "#compute a closing price column to add to matrix\n",
    "#for each row in the matrix\n",
    "#compute the closing price given total_val - s_val\n",
    "#append the closing price to the row\n",
    "for row in sorted_list:\n",
    "    close_val = row[len(row) - 1] - row[1]  \n",
    "    row.append(close_val)"
   ]
  },
  {
   "cell_type": "code",
   "execution_count": 201,
   "metadata": {},
   "outputs": [
    {
     "data": {
      "text/plain": [
       "[['2021-09-24', 55596.0, 0.0, 193071.0, 137475.0],\n",
       " ['2021-09-23', 69449.0, 0.0, 220750.0, 151301.0],\n",
       " ['2021-09-01', 76868.0, 0.0, 187863.0, 110995.0],\n",
       " ['2021-09-21', 84127.0, 0.0, 232722.0, 148595.0],\n",
       " ['2021-09-29', 93550.0, 0.0, 358798.0, 265248.0],\n",
       " ['2021-09-20', 94117.0, 0.0, 308448.0, 214331.0],\n",
       " ['2021-09-22', 103325.0, 0.0, 261933.0, 158608.0],\n",
       " ['2021-08-31', 118409.0, 220.0, 207648.0, 89239.0],\n",
       " ['2021-09-30', 124149.0, 300.0, 367313.0, 243164.0],\n",
       " ['2021-09-28', 136854.0, 300.0, 511315.0, 374461.0],\n",
       " ['2021-09-17', 139556.0, 0.0, 378530.0, 238974.0],\n",
       " ['2021-09-16', 141950.0, 0.0, 427799.0, 285849.0],\n",
       " ['2021-08-27', 149121.0, 0.0, 340047.0, 190926.0],\n",
       " ['2021-09-27', 166225.0, 0.0, 467564.0, 301339.0],\n",
       " ['2021-10-11', 171561.0, 12388.0, 335332.0, 163771.0],\n",
       " ['2021-08-30', 177926.0, 0.0, 307355.0, 129429.0],\n",
       " ['2021-08-26', 181408.0, 25210.0, 351591.0, 170183.0],\n",
       " ['2021-09-15', 198560.0, 0.0, 607188.0, 408628.0],\n",
       " ['2021-09-02', 204731.0, 0.0, 512900.0, 308169.0],\n",
       " ['2021-10-06', 211936.0, 291.0, 384479.0, 172543.0],\n",
       " ['2021-10-05', 225505.0, 1604.0, 357425.0, 131920.0],\n",
       " ['2021-10-01', 249387.0, 2000.0, 660883.0, 411496.0],\n",
       " ['2021-09-14', 279412.0, 4666.0, 793649.0, 514237.0],\n",
       " ['2021-09-08', 326763.0, 0.0, 799071.0, 472308.0],\n",
       " ['2021-10-08', 330775.0, 3416.0, 898354.0, 567579.0],\n",
       " ['2021-10-04', 334055.0, 2775.0, 541143.0, 207088.0],\n",
       " ['2021-09-13', 371020.0, 8659.0, 1003908.0, 632888.0],\n",
       " ['2021-08-25', 371978.0, 41203.0, 597283.0, 225305.0],\n",
       " ['2021-10-07', 501704.0, 701.0, 1115903.0, 614199.0],\n",
       " ['2021-09-10', 628301.0, 11891.0, 1628336.0, 1000035.0],\n",
       " ['2021-09-03', 822249.0, 0.0, 1657628.0, 835379.0],\n",
       " ['2021-09-07', 1217900.0, 0.0, 2731596.0, 1513696.0],\n",
       " ['2021-09-09', 2307883.0, 0.0, 6615146.0, 4307263.0]]"
      ]
     },
     "execution_count": 201,
     "metadata": {},
     "output_type": "execute_result"
    }
   ],
   "source": [
    "sorted_list"
   ]
  },
  {
   "cell_type": "code",
   "execution_count": 204,
   "metadata": {},
   "outputs": [
    {
     "data": {
      "text/plain": [
       "[['2021-08-31', 118409.0, 220.0, 207648.0, 89239.0],\n",
       " ['2021-09-01', 76868.0, 0.0, 187863.0, 110995.0],\n",
       " ['2021-08-30', 177926.0, 0.0, 307355.0, 129429.0],\n",
       " ['2021-10-05', 225505.0, 1604.0, 357425.0, 131920.0],\n",
       " ['2021-09-24', 55596.0, 0.0, 193071.0, 137475.0],\n",
       " ['2021-09-21', 84127.0, 0.0, 232722.0, 148595.0],\n",
       " ['2021-09-23', 69449.0, 0.0, 220750.0, 151301.0],\n",
       " ['2021-09-22', 103325.0, 0.0, 261933.0, 158608.0],\n",
       " ['2021-10-11', 171561.0, 12388.0, 335332.0, 163771.0],\n",
       " ['2021-08-26', 181408.0, 25210.0, 351591.0, 170183.0],\n",
       " ['2021-10-06', 211936.0, 291.0, 384479.0, 172543.0],\n",
       " ['2021-08-27', 149121.0, 0.0, 340047.0, 190926.0],\n",
       " ['2021-10-04', 334055.0, 2775.0, 541143.0, 207088.0],\n",
       " ['2021-09-20', 94117.0, 0.0, 308448.0, 214331.0],\n",
       " ['2021-08-25', 371978.0, 41203.0, 597283.0, 225305.0],\n",
       " ['2021-09-17', 139556.0, 0.0, 378530.0, 238974.0],\n",
       " ['2021-09-30', 124149.0, 300.0, 367313.0, 243164.0],\n",
       " ['2021-09-29', 93550.0, 0.0, 358798.0, 265248.0],\n",
       " ['2021-09-16', 141950.0, 0.0, 427799.0, 285849.0],\n",
       " ['2021-09-27', 166225.0, 0.0, 467564.0, 301339.0],\n",
       " ['2021-09-02', 204731.0, 0.0, 512900.0, 308169.0],\n",
       " ['2021-09-28', 136854.0, 300.0, 511315.0, 374461.0],\n",
       " ['2021-09-15', 198560.0, 0.0, 607188.0, 408628.0],\n",
       " ['2021-10-01', 249387.0, 2000.0, 660883.0, 411496.0],\n",
       " ['2021-09-08', 326763.0, 0.0, 799071.0, 472308.0],\n",
       " ['2021-09-14', 279412.0, 4666.0, 793649.0, 514237.0],\n",
       " ['2021-10-08', 330775.0, 3416.0, 898354.0, 567579.0],\n",
       " ['2021-10-07', 501704.0, 701.0, 1115903.0, 614199.0],\n",
       " ['2021-09-13', 371020.0, 8659.0, 1003908.0, 632888.0],\n",
       " ['2021-09-03', 822249.0, 0.0, 1657628.0, 835379.0],\n",
       " ['2021-09-10', 628301.0, 11891.0, 1628336.0, 1000035.0],\n",
       " ['2021-09-07', 1217900.0, 0.0, 2731596.0, 1513696.0],\n",
       " ['2021-09-09', 2307883.0, 0.0, 6615146.0, 4307263.0]]"
      ]
     },
     "execution_count": 204,
     "metadata": {},
     "output_type": "execute_result"
    }
   ],
   "source": [
    "sorted_by_close = sorted(sorted_list, key=itemgetter(4))\n",
    "sorted_by_close"
   ]
  },
  {
   "cell_type": "code",
   "execution_count": 213,
   "metadata": {},
   "outputs": [
    {
     "name": "stdout",
     "output_type": "stream",
     "text": [
      "largest change for stock FNYX_RKLB was 4218024.0 between dates: 2021-08-31 and 2021-09-09\n"
     ]
    }
   ],
   "source": [
    "largest_change = sorted_by_close[len(sorted_by_close) - 1][4] - sorted_by_close[0][4]\n",
    "largest_change\n",
    "\n",
    "print(\"largest change for stock \" + single_dict['dataset_code'] + f' was {largest_change} between dates: {sorted_by_close[0][0]} and {sorted_by_close[len(sorted_by_close) - 1][0]}')"
   ]
  },
  {
   "cell_type": "code",
   "execution_count": 221,
   "metadata": {},
   "outputs": [
    {
     "name": "stdout",
     "output_type": "stream",
     "text": [
      "average volume per day: 323222.73\n"
     ]
    }
   ],
   "source": [
    "total = 0\n",
    "for row in sorted_by_close:\n",
    "    total += row[1]\n",
    "    \n",
    "avg = total / len(sorted_by_close)\n",
    "print(\"average volume per day: \" + \"%0.2f\" % avg)"
   ]
  },
  {
   "cell_type": "code",
   "execution_count": null,
   "metadata": {},
   "outputs": [],
   "source": []
  }
 ],
 "metadata": {
  "interpreter": {
   "hash": "4885f37acae9217c235118400878352aafa7b76e66df698a1f601374f86939a7"
  },
  "kernelspec": {
   "display_name": "Python 3",
   "language": "python",
   "name": "python3"
  },
  "language_info": {
   "codemirror_mode": {
    "name": "ipython",
    "version": 3
   },
   "file_extension": ".py",
   "mimetype": "text/x-python",
   "name": "python",
   "nbconvert_exporter": "python",
   "pygments_lexer": "ipython3",
   "version": "3.8.5"
  }
 },
 "nbformat": 4,
 "nbformat_minor": 4
}
